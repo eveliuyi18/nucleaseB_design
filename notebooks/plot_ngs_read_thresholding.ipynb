{
  "cells": [
    {
      "cell_type": "code",
      "execution_count": null,
      "metadata": {
        "id": "rrHFN1BJiOg7"
      },
      "outputs": [],
      "source": [
        "# Copyright 2023 DeepMind Technologies Limited\n",
        "#\n",
        "# Licensed under the Apache License, Version 2.0 (the \"License\");\n",
        "# you may not use this file except in compliance with the License.\n",
        "# You may obtain a copy of the License at\n",
        "#\n",
        "#    http://www.apache.org/licenses/LICENSE-2.0\n",
        "#\n",
        "# Unless required by applicable law or agreed to in writing, software\n",
        "# distributed under the License is distributed on an \"AS IS\" BASIS,\n",
        "# WITHOUT WARRANTIES OR CONDITIONS OF ANY KIND, either express or implied.\n",
        "# See the License for the specific language governing permissions and\n",
        "# limitations under the License.\n",
        "# =============================================================================="
      ]
    },
    {
      "cell_type": "markdown",
      "metadata": {
        "id": "eGdgZGqCD4Ti"
      },
      "source": [
        "# Imports"
      ]
    },
    {
      "cell_type": "code",
      "execution_count": null,
      "metadata": {
        "id": "EnkMhmoQwH7v"
      },
      "outputs": [],
      "source": [
        "!pip install --upgrade https://github.com/google-deepmind/nuclease-design.git\n",
      ]
    },
    {
      "cell_type": "code",
      "execution_count": null,
      "metadata": {
        "id": "ApBc2ks6zNIv"
      },
      "outputs": [],
      "source": [
        "from multiprocessing import pool as pool_lib\n",
        "\n",
        "from nuclease_design import preprocessing_utils\n",
        "from nuclease_design import constants\n",
      ]
    },
    {
      "cell_type": "markdown",
      "metadata": {
        "id": "yjVIwM43KUeD"
      },
      "source": [
        "# Constants"
      ]
    },
    {
      "cell_type": "code",
      "execution_count": null,
      "metadata": {
        "id": "QSRoZsxPYIbg"
      },
      "outputs": [],
      "source": [
        "kwargs = {\n",
        "    'g4': constants.G4_INFO,\n",
        "    'g3': constants.G3_INFO,\n",
        "    'g2': constants.G2_INFO,\n",
        "    'g1': constants.G1_INFO,\n",
        "}"
      ]
    },
    {
      "cell_type": "code",
      "execution_count": null,
      "metadata": {
        "id": "mjv88yjkSYuJ"
      },
      "outputs": [],
      "source": [
        "DATA_DIR = constants.DATA_DIR"
      ]
    },
    {
      "cell_type": "markdown",
      "metadata": {
        "id": "Xg_xNeJlKWRT"
      },
      "source": [
        "# Library fns"
      ]
    },
    {
      "cell_type": "code",
      "execution_count": null,
      "metadata": {
        "id": "w6W3HhgRq3OW"
      },
      "outputs": [],
      "source": [
        "def load_counts_wrapper(generation):\n",
        "  count_df = preprocessing_utils.load_raw_data_from_paths(kwargs[generation]['names_and_paths'])\n",
        "  return {\n",
        "      'count_df': count_df,\n",
        "      'generation': generation}"
      ]
    },
    {
      "cell_type": "code",
      "execution_count": null,
      "metadata": {
        "executionInfo": {
          "elapsed": 1061397,
          "status": "ok",
          "timestamp": 1702324334956,
          "user": {
            "displayName": "",
            "userId": ""
          },
          "user_tz": 480
        },
        "id": "8hNHDvXxkus5",
        "outputId": "eb6ff07d-d628-4800-9cf3-aa59657bedd1"
      },
      "outputs": [
        {
          "name": "stdout",
          "output_type": "stream",
          "text": [
            "CPU times: user 30min 47s, sys: 3min 56s, total: 34min 44s\n",
            "Wall time: 30min 40s\n"
          ]
        }
      ],
      "source": [
        "%%time\n",
        "all_generations = ['g4', 'g3', 'g2', 'g1']\n",
        "\n",
        "with pool_lib.ThreadPool(len(all_generations)) as pool:\n",
        "    dfs = pool.map(load_counts_wrapper, all_generations)\n",
        "    pool.close()\n",
        "    pool.join()\n",
        "\n",
        "generation_to_count_df = {item['generation']: item['count_df'] for item in dfs}"
      ]
    },
    {
      "cell_type": "code",
      "execution_count": null,
      "metadata": {
        "executionInfo": {
          "elapsed": 54,
          "status": "ok",
          "timestamp": 1702325164814,
          "user": {
            "displayName": "",
            "userId": ""
          },
          "user_tz": 480
        },
        "id": "drxLEDJ6fFhI",
        "outputId": "cad1b1a3-a5a2-4e9a-9aae-a3d788e4476d"
      },
      "outputs": [
        {
          "data": {
            "text/plain": [
              "['read_count_1_input_g1',\n",
              " 'read_count_2_input_g1',\n",
              " 'read_count_3_input_g1',\n",
              " 'read_count_1_input_reseq_g1',\n",
              " 'read_count_2_input_reseq_g1']"
            ]
          },
          "execution_count": 17,
          "metadata": {},
          "output_type": "execute_result"
        }
      ],
      "source": [
        "kwargs['g1']['input_names']"
      ]
    },
    {
      "cell_type": "code",
      "execution_count": null,
      "metadata": {
        "colab": {
          "height": 382
        },
        "executionInfo": {
          "elapsed": 73,
          "status": "ok",
          "timestamp": 1702325122768,
          "user": {
            "displayName": "",
            "userId": ""
          },
          "user_tz": 480
        },
        "id": "LBem4-wt8kJ7",
        "outputId": "79a5387f-cc43-4b3d-8aa6-b8af99e2eab1"
      },
      "outputs": [
        {
          "data": {
            "text/html": [
              "\n",
              "  \u003cdiv id=\"df-f61925c7-569d-45a9-b55e-6662325a6c1f\" class=\"colab-df-container\"\u003e\n",
              "    \u003cdiv\u003e\n",
              "\u003cstyle scoped\u003e\n",
              "    .dataframe tbody tr th:only-of-type {\n",
              "        vertical-align: middle;\n",
              "    }\n",
              "\n",
              "    .dataframe tbody tr th {\n",
              "        vertical-align: top;\n",
              "    }\n",
              "\n",
              "    .dataframe thead th {\n",
              "        text-align: right;\n",
              "    }\n",
              "\u003c/style\u003e\n",
              "\u003ctable border=\"1\" class=\"dataframe\"\u003e\n",
              "  \u003cthead\u003e\n",
              "    \u003ctr style=\"text-align: right;\"\u003e\n",
              "      \u003cth\u003e\u003c/th\u003e\n",
              "      \u003cth\u003enuc_mutations\u003c/th\u003e\n",
              "      \u003cth\u003emutations\u003c/th\u003e\n",
              "      \u003cth\u003eread_count_1_high_g1\u003c/th\u003e\n",
              "      \u003cth\u003eread_count_1_input_g1\u003c/th\u003e\n",
              "      \u003cth\u003eread_count_1_low_g1\u003c/th\u003e\n",
              "      \u003cth\u003eread_count_2_high_g1\u003c/th\u003e\n",
              "      \u003cth\u003eread_count_2_input_g1\u003c/th\u003e\n",
              "      \u003cth\u003eread_count_2_low_g1\u003c/th\u003e\n",
              "      \u003cth\u003eread_count_3_high_g1\u003c/th\u003e\n",
              "      \u003cth\u003eread_count_3_input_g1\u003c/th\u003e\n",
              "      \u003cth\u003eread_count_3_low_g1\u003c/th\u003e\n",
              "      \u003cth\u003eread_count_1_input_reseq_g1\u003c/th\u003e\n",
              "      \u003cth\u003eread_count_2_high_reseq_g1\u003c/th\u003e\n",
              "      \u003cth\u003eread_count_2_input_reseq_g1\u003c/th\u003e\n",
              "    \u003c/tr\u003e\n",
              "  \u003c/thead\u003e\n",
              "  \u003ctbody\u003e\n",
              "    \u003ctr\u003e\n",
              "      \u003cth\u003e0\u003c/th\u003e\n",
              "      \u003ctd\u003e()\u003c/td\u003e\n",
              "      \u003ctd\u003e()\u003c/td\u003e\n",
              "      \u003ctd\u003e67886.0\u003c/td\u003e\n",
              "      \u003ctd\u003e12631.0\u003c/td\u003e\n",
              "      \u003ctd\u003e40972.0\u003c/td\u003e\n",
              "      \u003ctd\u003e32105.0\u003c/td\u003e\n",
              "      \u003ctd\u003e8996.0\u003c/td\u003e\n",
              "      \u003ctd\u003e35743.0\u003c/td\u003e\n",
              "      \u003ctd\u003e233249.0\u003c/td\u003e\n",
              "      \u003ctd\u003e15168.0\u003c/td\u003e\n",
              "      \u003ctd\u003e71044.0\u003c/td\u003e\n",
              "      \u003ctd\u003e146121.0\u003c/td\u003e\n",
              "      \u003ctd\u003e298910.0\u003c/td\u003e\n",
              "      \u003ctd\u003e104583.0\u003c/td\u003e\n",
              "    \u003c/tr\u003e\n",
              "    \u003ctr\u003e\n",
              "      \u003cth\u003e1\u003c/th\u003e\n",
              "      \u003ctd\u003e((A, 74, C),)\u003c/td\u003e\n",
              "      \u003ctd\u003e((Y, 25, S),)\u003c/td\u003e\n",
              "      \u003ctd\u003e2.0\u003c/td\u003e\n",
              "      \u003ctd\u003e0.0\u003c/td\u003e\n",
              "      \u003ctd\u003e1.0\u003c/td\u003e\n",
              "      \u003ctd\u003e0.0\u003c/td\u003e\n",
              "      \u003ctd\u003e0.0\u003c/td\u003e\n",
              "      \u003ctd\u003e0.0\u003c/td\u003e\n",
              "      \u003ctd\u003e4.0\u003c/td\u003e\n",
              "      \u003ctd\u003e40.0\u003c/td\u003e\n",
              "      \u003ctd\u003e1.0\u003c/td\u003e\n",
              "      \u003ctd\u003e2.0\u003c/td\u003e\n",
              "      \u003ctd\u003e2.0\u003c/td\u003e\n",
              "      \u003ctd\u003e1.0\u003c/td\u003e\n",
              "    \u003c/tr\u003e\n",
              "    \u003ctr\u003e\n",
              "      \u003cth\u003e2\u003c/th\u003e\n",
              "      \u003ctd\u003e((A, 74, C), (A, 83, C), (G, 84, C), (A, 86, C...\u003c/td\u003e\n",
              "      \u003ctd\u003e((Y, 25, S), (Q, 28, P), (H, 29, P), (A, 30, S...\u003c/td\u003e\n",
              "      \u003ctd\u003e1.0\u003c/td\u003e\n",
              "      \u003ctd\u003e0.0\u003c/td\u003e\n",
              "      \u003ctd\u003e0.0\u003c/td\u003e\n",
              "      \u003ctd\u003e0.0\u003c/td\u003e\n",
              "      \u003ctd\u003e0.0\u003c/td\u003e\n",
              "      \u003ctd\u003e0.0\u003c/td\u003e\n",
              "      \u003ctd\u003e0.0\u003c/td\u003e\n",
              "      \u003ctd\u003e0.0\u003c/td\u003e\n",
              "      \u003ctd\u003e0.0\u003c/td\u003e\n",
              "      \u003ctd\u003e0.0\u003c/td\u003e\n",
              "      \u003ctd\u003e0.0\u003c/td\u003e\n",
              "      \u003ctd\u003e0.0\u003c/td\u003e\n",
              "    \u003c/tr\u003e\n",
              "    \u003ctr\u003e\n",
              "      \u003cth\u003e3\u003c/th\u003e\n",
              "      \u003ctd\u003e((A, 74, C), (A, 83, C), (G, 84, T), (A, 86, C...\u003c/td\u003e\n",
              "      \u003ctd\u003e((Y, 25, S), (Q, 28, P), (H, 29, P), (A, 30, S...\u003c/td\u003e\n",
              "      \u003ctd\u003e1.0\u003c/td\u003e\n",
              "      \u003ctd\u003e0.0\u003c/td\u003e\n",
              "      \u003ctd\u003e0.0\u003c/td\u003e\n",
              "      \u003ctd\u003e0.0\u003c/td\u003e\n",
              "      \u003ctd\u003e0.0\u003c/td\u003e\n",
              "      \u003ctd\u003e0.0\u003c/td\u003e\n",
              "      \u003ctd\u003e0.0\u003c/td\u003e\n",
              "      \u003ctd\u003e0.0\u003c/td\u003e\n",
              "      \u003ctd\u003e0.0\u003c/td\u003e\n",
              "      \u003ctd\u003e0.0\u003c/td\u003e\n",
              "      \u003ctd\u003e0.0\u003c/td\u003e\n",
              "      \u003ctd\u003e0.0\u003c/td\u003e\n",
              "    \u003c/tr\u003e\n",
              "    \u003ctr\u003e\n",
              "      \u003cth\u003e4\u003c/th\u003e\n",
              "      \u003ctd\u003e((A, 74, C), (A, 83, C), (G, 84, T), (G, 88, T...\u003c/td\u003e\n",
              "      \u003ctd\u003e((Y, 25, S), (Q, 28, P), (A, 30, S), (E, 31, S...\u003c/td\u003e\n",
              "      \u003ctd\u003e1.0\u003c/td\u003e\n",
              "      \u003ctd\u003e0.0\u003c/td\u003e\n",
              "      \u003ctd\u003e0.0\u003c/td\u003e\n",
              "      \u003ctd\u003e0.0\u003c/td\u003e\n",
              "      \u003ctd\u003e0.0\u003c/td\u003e\n",
              "      \u003ctd\u003e0.0\u003c/td\u003e\n",
              "      \u003ctd\u003e0.0\u003c/td\u003e\n",
              "      \u003ctd\u003e0.0\u003c/td\u003e\n",
              "      \u003ctd\u003e0.0\u003c/td\u003e\n",
              "      \u003ctd\u003e0.0\u003c/td\u003e\n",
              "      \u003ctd\u003e0.0\u003c/td\u003e\n",
              "      \u003ctd\u003e0.0\u003c/td\u003e\n",
              "    \u003c/tr\u003e\n",
              "  \u003c/tbody\u003e\n",
              "\u003c/table\u003e\n",
              "\u003c/div\u003e\n",
              "    \u003cdiv class=\"colab-df-buttons\"\u003e\n",
              "\n",
              "  \u003cdiv class=\"colab-df-container\"\u003e\n",
              "    \u003cbutton class=\"colab-df-convert\" onclick=\"convertToInteractive('df-f61925c7-569d-45a9-b55e-6662325a6c1f')\"\n",
              "            title=\"Convert this dataframe to an interactive table.\"\n",
              "            style=\"display:none;\"\u003e\n",
              "\n",
              "  \u003csvg xmlns=\"http://www.w3.org/2000/svg\" height=\"24px\" viewBox=\"0 -960 960 960\"\u003e\n",
              "    \u003cpath d=\"M120-120v-720h720v720H120Zm60-500h600v-160H180v160Zm220 220h160v-160H400v160Zm0 220h160v-160H400v160ZM180-400h160v-160H180v160Zm440 0h160v-160H620v160ZM180-180h160v-160H180v160Zm440 0h160v-160H620v160Z\"/\u003e\n",
              "  \u003c/svg\u003e\n",
              "    \u003c/button\u003e\n",
              "\n",
              "  \u003cstyle\u003e\n",
              "    .colab-df-container {\n",
              "      display:flex;\n",
              "      gap: 12px;\n",
              "    }\n",
              "\n",
              "    .colab-df-convert {\n",
              "      background-color: #E8F0FE;\n",
              "      border: none;\n",
              "      border-radius: 50%;\n",
              "      cursor: pointer;\n",
              "      display: none;\n",
              "      fill: #1967D2;\n",
              "      height: 32px;\n",
              "      padding: 0 0 0 0;\n",
              "      width: 32px;\n",
              "    }\n",
              "\n",
              "    .colab-df-convert:hover {\n",
              "      background-color: #E2EBFA;\n",
              "      box-shadow: 0px 1px 2px rgba(60, 64, 67, 0.3), 0px 1px 3px 1px rgba(60, 64, 67, 0.15);\n",
              "      fill: #174EA6;\n",
              "    }\n",
              "\n",
              "    .colab-df-buttons div {\n",
              "      margin-bottom: 4px;\n",
              "    }\n",
              "\n",
              "    [theme=dark] .colab-df-convert {\n",
              "      background-color: #3B4455;\n",
              "      fill: #D2E3FC;\n",
              "    }\n",
              "\n",
              "    [theme=dark] .colab-df-convert:hover {\n",
              "      background-color: #434B5C;\n",
              "      box-shadow: 0px 1px 3px 1px rgba(0, 0, 0, 0.15);\n",
              "      filter: drop-shadow(0px 1px 2px rgba(0, 0, 0, 0.3));\n",
              "      fill: #FFFFFF;\n",
              "    }\n",
              "  \u003c/style\u003e\n",
              "\n",
              "    \u003cscript\u003e\n",
              "      const buttonEl =\n",
              "        document.querySelector('#df-f61925c7-569d-45a9-b55e-6662325a6c1f button.colab-df-convert');\n",
              "      buttonEl.style.display =\n",
              "        google.colab.kernel.accessAllowed ? 'block' : 'none';\n",
              "\n",
              "      async function convertToInteractive(key) {\n",
              "        const element = document.querySelector('#df-f61925c7-569d-45a9-b55e-6662325a6c1f');\n",
              "        const dataTable =\n",
              "          await google.colab.kernel.invokeFunction('convertToInteractive',\n",
              "                                                    [key], {});\n",
              "        if (!dataTable) return;\n",
              "\n",
              "        const docLinkHtml = 'Like what you see? Visit the ' +\n",
              "          '\u003ca target=\"_blank\" href=https://colab.research.google.com/notebooks/data_table.ipynb\u003edata table notebook\u003c/a\u003e'\n",
              "          + ' to learn more about interactive tables.';\n",
              "        element.innerHTML = '';\n",
              "        dataTable['output_type'] = 'display_data';\n",
              "        await google.colab.output.renderOutput(dataTable, element);\n",
              "        const docLink = document.createElement('div');\n",
              "        docLink.innerHTML = docLinkHtml;\n",
              "        element.appendChild(docLink);\n",
              "      }\n",
              "    \u003c/script\u003e\n",
              "  \u003c/div\u003e\n",
              "\n",
              "\n",
              "\u003cdiv id=\"df-d0f72076-7570-4e75-9215-ac1db27504e1\"\u003e\n",
              "  \u003cbutton class=\"colab-df-quickchart\" onclick=\"quickchart('df-d0f72076-7570-4e75-9215-ac1db27504e1')\"\n",
              "            title=\"Suggest charts\"\n",
              "            style=\"display:none;\"\u003e\n",
              "\n",
              "\u003csvg xmlns=\"http://www.w3.org/2000/svg\" height=\"24px\"viewBox=\"0 0 24 24\"\n",
              "     width=\"24px\"\u003e\n",
              "    \u003cg\u003e\n",
              "        \u003cpath d=\"M19 3H5c-1.1 0-2 .9-2 2v14c0 1.1.9 2 2 2h14c1.1 0 2-.9 2-2V5c0-1.1-.9-2-2-2zM9 17H7v-7h2v7zm4 0h-2V7h2v10zm4 0h-2v-4h2v4z\"/\u003e\n",
              "    \u003c/g\u003e\n",
              "\u003c/svg\u003e\n",
              "  \u003c/button\u003e\n",
              "\n",
              "\u003cstyle\u003e\n",
              "  .colab-df-quickchart {\n",
              "      --bg-color: #E8F0FE;\n",
              "      --fill-color: #1967D2;\n",
              "      --hover-bg-color: #E2EBFA;\n",
              "      --hover-fill-color: #174EA6;\n",
              "      --disabled-fill-color: #AAA;\n",
              "      --disabled-bg-color: #DDD;\n",
              "  }\n",
              "\n",
              "  [theme=dark] .colab-df-quickchart {\n",
              "      --bg-color: #3B4455;\n",
              "      --fill-color: #D2E3FC;\n",
              "      --hover-bg-color: #434B5C;\n",
              "      --hover-fill-color: #FFFFFF;\n",
              "      --disabled-bg-color: #3B4455;\n",
              "      --disabled-fill-color: #666;\n",
              "  }\n",
              "\n",
              "  .colab-df-quickchart {\n",
              "    background-color: var(--bg-color);\n",
              "    border: none;\n",
              "    border-radius: 50%;\n",
              "    cursor: pointer;\n",
              "    display: none;\n",
              "    fill: var(--fill-color);\n",
              "    height: 32px;\n",
              "    padding: 0;\n",
              "    width: 32px;\n",
              "  }\n",
              "\n",
              "  .colab-df-quickchart:hover {\n",
              "    background-color: var(--hover-bg-color);\n",
              "    box-shadow: 0 1px 2px rgba(60, 64, 67, 0.3), 0 1px 3px 1px rgba(60, 64, 67, 0.15);\n",
              "    fill: var(--button-hover-fill-color);\n",
              "  }\n",
              "\n",
              "  .colab-df-quickchart-complete:disabled,\n",
              "  .colab-df-quickchart-complete:disabled:hover {\n",
              "    background-color: var(--disabled-bg-color);\n",
              "    fill: var(--disabled-fill-color);\n",
              "    box-shadow: none;\n",
              "  }\n",
              "\n",
              "  .colab-df-spinner {\n",
              "    border: 2px solid var(--fill-color);\n",
              "    border-color: transparent;\n",
              "    border-bottom-color: var(--fill-color);\n",
              "    animation:\n",
              "      spin 1s steps(1) infinite;\n",
              "  }\n",
              "\n",
              "  @keyframes spin {\n",
              "    0% {\n",
              "      border-color: transparent;\n",
              "      border-bottom-color: var(--fill-color);\n",
              "      border-left-color: var(--fill-color);\n",
              "    }\n",
              "    20% {\n",
              "      border-color: transparent;\n",
              "      border-left-color: var(--fill-color);\n",
              "      border-top-color: var(--fill-color);\n",
              "    }\n",
              "    30% {\n",
              "      border-color: transparent;\n",
              "      border-left-color: var(--fill-color);\n",
              "      border-top-color: var(--fill-color);\n",
              "      border-right-color: var(--fill-color);\n",
              "    }\n",
              "    40% {\n",
              "      border-color: transparent;\n",
              "      border-right-color: var(--fill-color);\n",
              "      border-top-color: var(--fill-color);\n",
              "    }\n",
              "    60% {\n",
              "      border-color: transparent;\n",
              "      border-right-color: var(--fill-color);\n",
              "    }\n",
              "    80% {\n",
              "      border-color: transparent;\n",
              "      border-right-color: var(--fill-color);\n",
              "      border-bottom-color: var(--fill-color);\n",
              "    }\n",
              "    90% {\n",
              "      border-color: transparent;\n",
              "      border-bottom-color: var(--fill-color);\n",
              "    }\n",
              "  }\n",
              "\u003c/style\u003e\n",
              "\n",
              "  \u003cscript\u003e\n",
              "    async function quickchart(key) {\n",
              "      const quickchartButtonEl =\n",
              "        document.querySelector('#' + key + ' button');\n",
              "      quickchartButtonEl.disabled = true;  // To prevent multiple clicks.\n",
              "      quickchartButtonEl.classList.add('colab-df-spinner');\n",
              "      try {\n",
              "        const charts = await google.colab.kernel.invokeFunction(\n",
              "            'suggestCharts', [key], {});\n",
              "      } catch (error) {\n",
              "        console.error('Error during call to suggestCharts:', error);\n",
              "      }\n",
              "      quickchartButtonEl.classList.remove('colab-df-spinner');\n",
              "      quickchartButtonEl.classList.add('colab-df-quickchart-complete');\n",
              "    }\n",
              "    (() =\u003e {\n",
              "      let quickchartButtonEl =\n",
              "        document.querySelector('#df-d0f72076-7570-4e75-9215-ac1db27504e1 button');\n",
              "      quickchartButtonEl.style.display =\n",
              "        google.colab.kernel.accessAllowed ? 'block' : 'none';\n",
              "    })();\n",
              "  \u003c/script\u003e\n",
              "\u003c/div\u003e\n",
              "    \u003c/div\u003e\n",
              "  \u003c/div\u003e\n"
            ],
            "text/plain": [
              "                                       nuc_mutations  ... read_count_2_input_reseq_g1\n",
              "0                                                 ()  ...                    104583.0\n",
              "1                                      ((A, 74, C),)  ...                         1.0\n",
              "2  ((A, 74, C), (A, 83, C), (G, 84, C), (A, 86, C...  ...                         0.0\n",
              "3  ((A, 74, C), (A, 83, C), (G, 84, T), (A, 86, C...  ...                         0.0\n",
              "4  ((A, 74, C), (A, 83, C), (G, 84, T), (G, 88, T...  ...                         0.0\n",
              "\n",
              "[5 rows x 14 columns]"
            ]
          },
          "execution_count": 14,
          "metadata": {},
          "output_type": "execute_result"
        }
      ],
      "source": [
        "generation_to_count_df['g1'].head()"
      ]
    },
    {
      "cell_type": "code",
      "execution_count": null,
      "metadata": {
        "id": "Vg6KyrJrfLok"
      },
      "outputs": [],
      "source": [
        "def add_max_input_col(df, input_names):\n",
        "  df['max_input_read_count'] = df[input_names].max(axis=1)\n",
        "\n",
        "for generation in ['g1', 'g2', 'g3', 'g4']:\n",
        "  add_max_input_col(generation_to_count_df[generation], kwargs[generation]['input_names'])"
      ]
    },
    {
      "cell_type": "code",
      "execution_count": null,
      "metadata": {
        "id": "eyfWPZ9LgAfx"
      },
      "outputs": [],
      "source": [
        "import seaborn as sns\n",
        "import matplotlib.pyplot as plt"
      ]
    },
    {
      "cell_type": "code",
      "execution_count": null,
      "metadata": {
        "colab": {
          "height": 762
        },
        "executionInfo": {
          "elapsed": 9197,
          "status": "ok",
          "timestamp": 1702326504297,
          "user": {
            "displayName": "",
            "userId": ""
          },
          "user_tz": 480
        },
        "id": "-1ieH-nlfOCF",
        "outputId": "2eae2774-3031-4ec4-9936-235181a48544"
      },
      "outputs": [
        {
          "data": {
            "text/plain": [
              "Text(0.5, 0, 'maximum read count across input libraries')"
            ]
          },
          "execution_count": 63,
          "metadata": {},
          "output_type": "execute_result"
        },
        {
          "data": {
            "image/png": "iVBORw0KGgoAAAANSUhEUgAAA3AAAAWwCAYAAAAc0qNZAAAAOXRFWHRTb2Z0d2FyZQBNYXRwbG90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\n",
            "text/plain": [
              "\u003cFigure size 600x1000 with 4 Axes\u003e"
            ]
          },
          "metadata": {
            "image/png": {
              "height": 728,
              "width": 440
            }
          },
          "output_type": "display_data"
        }
      ],
      "source": [
        "min_count = 2\n",
        "fig, axs = plt.subplots(\n",
        "    nrows=4,\n",
        "    ncols=1,\n",
        "    sharex=True,\n",
        "    figsize=(6, 10),\n",
        "    layout='constrained',\n",
        ")\n",
        "\n",
        "for i, generation in enumerate(['g1', 'g2', 'g3', 'g4']):\n",
        "  ax = axs[i]\n",
        "  df = generation_to_count_df[generation]\n",
        "  plotdf = df[df['max_input_read_count'] \u003e= min_count]\n",
        "  # inverse CDF\n",
        "  sns.ecdfplot(\n",
        "      data=plotdf,\n",
        "      x='max_input_read_count',\n",
        "      stat='count',\n",
        "      log_scale=(True, True),\n",
        "      complementary=True,\n",
        "      ax=ax,\n",
        "  )\n",
        "  ax.axvline(\n",
        "      x=kwargs[generation]['count_threshold'],\n",
        "      color='grey',\n",
        "      label='count threshold',\n",
        "  )\n",
        "  ax.set_title(generation)\n",
        "\n",
        "fig.suptitle('input library read count inverse CDF', fontsize=20)\n",
        "plt.legend()\n",
        "plt.xlabel('maximum read count across input libraries')"
      ]
    },
    {
      "cell_type": "code",
      "execution_count": null,
      "metadata": {
        "id": "ld7z_fWYiP6B"
      },
      "outputs": [],
      "source": []
    },
    {
      "cell_type": "code",
      "execution_count": null,
      "metadata": {
        "id": "JkqopgtCgGvH"
      },
      "outputs": [],
      "source": []
    }
  ],
  "metadata": {
    "colab": {
      "provenance": []
    },
    "kernelspec": {
      "display_name": "Python 3",
      "name": "python3"
    },
    "language_info": {
      "name": "python"
    }
  },
  "nbformat": 4,
  "nbformat_minor": 0
}
